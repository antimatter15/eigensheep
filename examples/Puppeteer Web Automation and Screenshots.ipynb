{
 "cells": [
  {
   "cell_type": "code",
   "execution_count": 1,
   "metadata": {},
   "outputs": [
    {
     "data": {
      "text/html": [
       "\n",
       "<p>\n",
       "Prefix any cell with <code>%%eigensheep</code> to run it in AWS Lambda. <a target=\"_blank\" href='https://github.com/antimatter15/eigensheep'>Learn more...</a>\n",
       "</p>\n",
       "<br />\n",
       "<details>\n",
       "<summary>Example: Use `requests` package via Pip</summary>\n",
       "<pre style=\"padding-left: 20px\">%%eigensheep requests\n",
       "import requests\n",
       "requests.get(\"https://www.google.com\").text\n",
       "</pre>\n",
       "</details>\n",
       "\n",
       "<details>\n",
       "<summary>Example: Run cell 100x concurrently</summary>\n",
       "<pre style=\"padding-left: 20px\">%%eigensheep -n 100\n",
       "INDEX + 1 # returns [1, 2, 3, ..., 99, 100]\n",
       "</pre>\n",
       "</details>\n",
       "\n",
       "<details>\n",
       "<summary>Example: Mapping through an array</summary>\n",
       "<pre style=\"padding-left: 20px\">%%eigensheep --name do_stuff\n",
       "DATA + INDEX\n",
       "# In a different cell, call `eigensheep.map(\"do_stuff\", [1, 2, 3, 4])`\n",
       "</pre>\n",
       "<ul>\n",
       "<li><tt>INDEX</tt>: the index (starting at 0) of the lambda running your code. \n",
       "This means each lambda runnning in parallel gets a different INDEX variable, which is useful for doing different jobs on each one.\n",
       "Check out the examples for inspiration.</li>\n",
       "<li><tt>DATA</tt>: the data corresponding to a particular index.</li>\n",
       "</ul>\n",
       "</details>\n",
       "\n",
       "<details>\n",
       "<summary>Example: Natural Language Processing with `spacy` Lambda layer</summary>\n",
       "<pre style=\"padding-left: 20px\">%%eigensheep --layer arn:aws:lambda:us-east-1:113088814899:layer:Klayers-python37-spacy:1\n",
       "import spacy\n",
       "nlp = spacy.load('/opt/en_core_web_sm-2.1.0')\n",
       "data = nlp('I met a traveller from an antique land')\n",
       "\n",
       "for token in data:\n",
       "    print(token.text, token.pos_, token.dep_)\n",
       "</pre>\n",
       "</details>\n",
       "\n",
       "<details>\n",
       "<summary>Example: Save/Load data in Eigensheep S3 Bucket</summary>\n",
       "<div>\n",
       "These APIs are available from both the parent notebook and the Lambda environment. These methods are injected into the global scope. \n",
       "</div>\n",
       "<ul>\n",
       "<li><tt>SAVE(key, data)</tt>: saves <tt>data</tt> to a file named <tt>key</tt> in the Eigensheep S3 bucket.<br/></li>\n",
       "<li><tt>LOAD(key)</tt>: returns the contents of the file named <tt>key</tt> in the Eigensheep S3 bucket.<br/></li>\n",
       "</ul>\n",
       "</details>\n"
      ],
      "text/plain": [
       "<IPython.core.display.HTML object>"
      ]
     },
     "metadata": {},
     "output_type": "display_data"
    }
   ],
   "source": [
    "import eigensheep"
   ]
  },
  {
   "cell_type": "code",
   "execution_count": 3,
   "metadata": {},
   "outputs": [],
   "source": [
    "%%eigensheep --layer arn:aws:lambda:us-east-1:972882471061:layer:puppeteer:1 pyppeteer\n",
    "\n",
    "import os\n",
    "os.environ['PYPPETEER_HOME'] = '/tmp/home'\n",
    "import pyppeteer\n",
    "import asyncio\n",
    "\n",
    "async def main():\n",
    "    browser = await pyppeteer.launch({\n",
    "        'executablePath': '/opt/headless_shell',\n",
    "        'headless': True,\n",
    "        'args': ['--no-sandbox', '--disable-gpu', '--single-process']\n",
    "    })\n",
    "    page = await browser.newPage()\n",
    "    await page.goto('http://example.com')\n",
    "    await page.screenshot({'path': '/tmp/example.png'})\n",
    "    await browser.close()\n",
    "\n",
    "asyncio.get_event_loop().run_until_complete(main())\n",
    "\n",
    "SAVE('screenshot.png', open('/tmp/example.png', 'rb').read())\n"
   ]
  },
  {
   "cell_type": "code",
   "execution_count": 6,
   "metadata": {},
   "outputs": [
    {
     "data": {
      "text/plain": [
       "<matplotlib.image.AxesImage at 0x11a57aa20>"
      ]
     },
     "execution_count": 6,
     "metadata": {},
     "output_type": "execute_result"
    },
    {
     "data": {
      "image/png": "[encoded data removed]",
      "text/plain": [
       "<Figure size 432x288 with 1 Axes>"
      ]
     },
     "metadata": {
      "needs_background": "light"
     },
     "output_type": "display_data"
    }
   ],
   "source": [
    "%matplotlib inline\n",
    "import matplotlib.pyplot as plt\n",
    "\n",
    "with open('screenshot.png', 'wb') as f:\n",
    "    f.write(LOAD('screenshot.png'))\n",
    "    \n",
    "plt.imshow(plt.imread('screenshot.png'))"
   ]
  }
 ],
 "metadata": {
  "kernelspec": {
   "display_name": "Python 3",
   "language": "python",
   "name": "python3"
  },
  "language_info": {
   "codemirror_mode": {
    "name": "ipython",
    "version": 3
   },
   "file_extension": ".py",
   "mimetype": "text/x-python",
   "name": "python",
   "nbconvert_exporter": "python",
   "pygments_lexer": "ipython3",
   "version": "3.7.3"
  }
 },
 "nbformat": 4,
 "nbformat_minor": 2
}
