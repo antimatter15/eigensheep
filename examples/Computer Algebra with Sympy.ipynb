{
 "cells": [
  {
   "cell_type": "code",
   "execution_count": 1,
   "metadata": {},
   "outputs": [
    {
     "data": {
      "text/html": [
       "\n",
       "<p>\n",
       "Prefix any cell with <code>%%eigensheep</code> to run it in AWS Lambda. <a target=\"_blank\" href='https://github.com/antimatter15/eigensheep'>Learn more...</a>\n",
       "</p>\n",
       "<br />\n",
       "<details>\n",
       "<summary>Example: Use `requests` package via Pip</summary>\n",
       "<pre style=\"padding-left: 20px\">%%eigensheep requests\n",
       "import requests\n",
       "requests.get(\"https://www.google.com\").text\n",
       "</pre>\n",
       "</details>\n",
       "\n",
       "<details>\n",
       "<summary>Example: Run cell 100x concurrently</summary>\n",
       "<pre style=\"padding-left: 20px\">%%eigensheep -n 100\n",
       "INDEX + 1 # returns [1, 2, 3, ..., 99, 100]\n",
       "</pre>\n",
       "</details>\n",
       "\n",
       "<details>\n",
       "<summary>Example: Mapping through an array</summary>\n",
       "<pre style=\"padding-left: 20px\">%%eigensheep --name do_stuff\n",
       "DATA + INDEX\n",
       "# In a different cell, call `eigensheep.map(\"do_stuff\", [1, 2, 3, 4])`\n",
       "</pre>\n",
       "<ul>\n",
       "<li><tt>INDEX</tt>: the index (starting at 0) of the lambda running your code. \n",
       "This means each lambda runnning in parallel gets a different INDEX variable, which is useful for doing different jobs on each one.\n",
       "Check out the examples for inspiration.</li>\n",
       "<li><tt>DATA</tt>: the data corresponding to a particular index.</li>\n",
       "</ul>\n",
       "</details>\n",
       "\n",
       "<details>\n",
       "<summary>Example: Natural Language Processing with `spacy` Lambda layer</summary>\n",
       "<pre style=\"padding-left: 20px\">%%eigensheep --layer arn:aws:lambda:us-east-1:113088814899:layer:Klayers-python37-spacy:1\n",
       "import spacy\n",
       "nlp = spacy.load('/opt/en_core_web_sm-2.1.0')\n",
       "data = nlp('I met a traveller from an antique land')\n",
       "\n",
       "for token in data:\n",
       "    print(token.text, token.pos_, token.dep_)\n",
       "</pre>\n",
       "</details>\n",
       "\n",
       "<details>\n",
       "<summary>Example: Save/Load data in Eigensheep S3 Bucket</summary>\n",
       "<div>\n",
       "These APIs are available from both the parent notebook and the Lambda environment. These methods are injected into the global scope. \n",
       "</div>\n",
       "<ul>\n",
       "<li><tt>SAVE(key, data)</tt>: saves <tt>data</tt> to a file named <tt>key</tt> in the Eigensheep S3 bucket.<br/></li>\n",
       "<li><tt>LOAD(key)</tt>: returns the contents of the file named <tt>key</tt> in the Eigensheep S3 bucket.<br/></li>\n",
       "</ul>\n",
       "</details>\n"
      ],
      "text/plain": [
       "<IPython.core.display.HTML object>"
      ]
     },
     "metadata": {},
     "output_type": "display_data"
    }
   ],
   "source": [
    "import eigensheep"
   ]
  },
  {
   "cell_type": "code",
   "execution_count": 2,
   "metadata": {},
   "outputs": [
    {
     "name": "stderr",
     "output_type": "stream",
     "text": [
      "Installing dependencies (this will take a while)...\n",
      "Collecting sympy\n",
      "  Downloading https://files.pythonhosted.org/packages/21/21/f4105795ca7f35c541d82c5b06be684dd2f5cb4f508fb487cd7aea4de776/sympy-1.4-py2.py3-none-any.whl (5.3MB)\n",
      "Collecting mpmath>=0.19 (from sympy)\n",
      "  Downloading https://files.pythonhosted.org/packages/ca/63/3384ebb3b51af9610086b23ea976e6d27d6d97bf140a76a365bd77a3eb32/mpmath-1.1.0.tar.gz (512kB)\n",
      "Installing collected packages: mpmath, sympy\n",
      "  Running setup.py install for mpmath: started\n",
      "    Running setup.py install for mpmath: finished with status 'done'\n",
      "Successfully installed mpmath-1.1.0 sympy-1.4\n",
      "You are using pip version 19.0.3, however version 19.2.1 is available.\n",
      "You should consider upgrading via the 'pip install --upgrade pip' command.\n",
      "Found credentials in environment variables.\n",
      "Successfully deployed as 'python37-512M-60s-3c86d-sympy'.\n"
     ]
    },
    {
     "data": {
      "text/plain": [
       "'3.141592653589793238462643383279502884197169399375105820974944592307816406286208998628034825342117067982148086513282306647093844609550582231725359408128481117450284102701938521105559644622948954930381964428810975665933446128475648233786783165271201909145648566923460348610454326648213393607260249141273724587006606315588174881520920962829254091715364367892590360011330530548820466521384146951941511609'"
      ]
     },
     "execution_count": 2,
     "metadata": {},
     "output_type": "execute_result"
    }
   ],
   "source": [
    "%%eigensheep sympy\n",
    "import sympy\n",
    "\n",
    "pi = sympy.pi.evalf(400)\n",
    "\n",
    "str(pi)"
   ]
  },
  {
   "cell_type": "code",
   "execution_count": null,
   "metadata": {},
   "outputs": [],
   "source": []
  }
 ],
 "metadata": {
  "kernelspec": {
   "display_name": "Python 3",
   "language": "python",
   "name": "python3"
  },
  "language_info": {
   "codemirror_mode": {
    "name": "ipython",
    "version": 3
   },
   "file_extension": ".py",
   "mimetype": "text/x-python",
   "name": "python",
   "nbconvert_exporter": "python",
   "pygments_lexer": "ipython3",
   "version": "3.7.3"
  }
 },
 "nbformat": 4,
 "nbformat_minor": 2
}
