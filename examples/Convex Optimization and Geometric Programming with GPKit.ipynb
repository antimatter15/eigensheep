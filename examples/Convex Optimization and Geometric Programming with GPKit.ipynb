{
 "cells": [
  {
   "cell_type": "code",
   "execution_count": 1,
   "metadata": {},
   "outputs": [
    {
     "data": {
      "text/html": [
       "\n",
       "<p>\n",
       "Prefix any cell with <code>%%eigensheep</code> to run it in AWS Lambda. <a target=\"_blank\" href='https://github.com/antimatter15/eigensheep'>Learn more...</a>\n",
       "</p>\n",
       "<br />\n",
       "<details>\n",
       "<summary>Example: Use `requests` package via Pip</summary>\n",
       "<pre style=\"padding-left: 20px\">%%eigensheep requests\n",
       "import requests\n",
       "requests.get(\"https://www.google.com\").text\n",
       "</pre>\n",
       "</details>\n",
       "\n",
       "<details>\n",
       "<summary>Example: Run cell 100x concurrently</summary>\n",
       "<pre style=\"padding-left: 20px\">%%eigensheep -n 100\n",
       "INDEX + 1 # returns [1, 2, 3, ..., 99, 100]\n",
       "</pre>\n",
       "</details>\n",
       "\n",
       "<details>\n",
       "<summary>Example: Mapping through an array</summary>\n",
       "<pre style=\"padding-left: 20px\">%%eigensheep --name do_stuff\n",
       "DATA + INDEX\n",
       "# In a different cell, call `eigensheep.map(\"do_stuff\", [1, 2, 3, 4])`\n",
       "</pre>\n",
       "<ul>\n",
       "<li><tt>INDEX</tt>: the index (starting at 0) of the lambda running your code. \n",
       "This means each lambda runnning in parallel gets a different INDEX variable, which is useful for doing different jobs on each one.\n",
       "Check out the examples for inspiration.</li>\n",
       "<li><tt>DATA</tt>: the data corresponding to a particular index.</li>\n",
       "</ul>\n",
       "</details>\n",
       "\n",
       "<details>\n",
       "<summary>Example: Natural Language Processing with `spacy` Lambda layer</summary>\n",
       "<pre style=\"padding-left: 20px\">%%eigensheep --layer arn:aws:lambda:us-east-1:113088814899:layer:Klayers-python37-spacy:1\n",
       "import spacy\n",
       "nlp = spacy.load('/opt/en_core_web_sm-2.1.0')\n",
       "data = nlp('I met a traveller from an antique land')\n",
       "\n",
       "for token in data:\n",
       "    print(token.text, token.pos_, token.dep_)\n",
       "</pre>\n",
       "</details>\n",
       "\n",
       "<details>\n",
       "<summary>Example: Save/Load data in Eigensheep S3 Bucket</summary>\n",
       "<div>\n",
       "These APIs are available from both the parent notebook and the Lambda environment. These methods are injected into the global scope. \n",
       "</div>\n",
       "<ul>\n",
       "<li><tt>SAVE(key, data)</tt>: saves <tt>data</tt> to a file named <tt>key</tt> in the Eigensheep S3 bucket.<br/></li>\n",
       "<li><tt>LOAD(key)</tt>: returns the contents of the file named <tt>key</tt> in the Eigensheep S3 bucket.<br/></li>\n",
       "</ul>\n",
       "</details>\n"
      ],
      "text/plain": [
       "<IPython.core.display.HTML object>"
      ]
     },
     "metadata": {},
     "output_type": "display_data"
    }
   ],
   "source": [
    "import eigensheep"
   ]
  },
  {
   "cell_type": "code",
   "execution_count": 2,
   "metadata": {},
   "outputs": [
    {
     "name": "stderr",
     "output_type": "stream",
     "text": [
      "Installing dependencies (this will take a while)...\n",
      "Collecting gpkit\n",
      "  Downloading https://files.pythonhosted.org/packages/19/2b/f013e0a15e3b7270dc99f226533576188f2ff8977a0a3597243be62b342f/gpkit-0.9.0.1.tar.gz (109kB)\n",
      "Collecting numpy>=1.12.1 (from gpkit)\n",
      "  Downloading https://files.pythonhosted.org/packages/fc/d1/45be1144b03b6b1e24f9a924f23f66b4ad030d834ad31fb9e5581bd328af/numpy-1.16.4-cp37-cp37m-manylinux1_x86_64.whl (17.3MB)\n",
      "Collecting pint>=0.8.1 (from gpkit)\n",
      "  Downloading https://files.pythonhosted.org/packages/15/9d/bf177ebbc57d25e9e296addc14a1303d1e34d7964af5df428a8332349c42/Pint-0.9-py2.py3-none-any.whl (138kB)\n",
      "Collecting scipy (from gpkit)\n",
      "  Downloading https://files.pythonhosted.org/packages/5d/bd/c0feba81fb60e231cf40fc8a322ed5873c90ef7711795508692b1481a4ae/scipy-1.3.0-cp37-cp37m-manylinux1_x86_64.whl (25.2MB)\n",
      "Collecting ad (from gpkit)\n",
      "  Downloading https://files.pythonhosted.org/packages/3b/f0/16776411190d53745d0d020a242e2890a59c0752b133a3476d35aa63e4a2/ad-1.3.2.zip\n",
      "Collecting cvxopt>=1.1.8 (from gpkit)\n",
      "  Downloading https://files.pythonhosted.org/packages/9b/84/e8c883bbfc972dc9f7b2ca9f97c56d73a44a7dfa700f73746ae0d2569cb0/cvxopt-1.2.3-cp37-cp37m-manylinux1_x86_64.whl (11.6MB)\n",
      "Collecting six (from gpkit)\n",
      "  Downloading https://files.pythonhosted.org/packages/73/fb/00a976f728d0d1fecfe898238ce23f502a721c0ac0ecfedb80e0d88c64e9/six-1.12.0-py2.py3-none-any.whl\n",
      "Installing collected packages: numpy, pint, scipy, ad, cvxopt, six, gpkit\n",
      "  Running setup.py install for ad: started\n",
      "    Running setup.py install for ad: finished with status 'done'\n",
      "  Running setup.py install for gpkit: started\n",
      "    Running setup.py install for gpkit: finished with status 'done'\n",
      "Successfully installed ad-1.3.2 cvxopt-1.2.3 gpkit-0.9.0.1 numpy-1.16.4 pint-0.9 scipy-1.3.0 six-1.12.0\n",
      "You are using pip version 19.0.3, however version 19.2.1 is available.\n",
      "You should consider upgrading via the 'pip install --upgrade pip' command.\n",
      "Found credentials in environment variables.\n",
      "Successfully deployed as 'python37-512M-60s-d463e-gpkit'.\n"
     ]
    },
    {
     "name": "stdout",
     "output_type": "stream",
     "text": [
      "OpenBLAS WARNING - could not determine the L2 cache size on this system, assuming 256k\n",
      "Found no installed solvers, beginning a build.\n",
      "# Moving to the directory from which GPkit was imported.\n",
      "Started building gpkit...\n",
      "\n",
      "Attempting to find and build solvers:\n",
      "\n",
      "# Looking for mosek\n",
      "# the expected MOSEK directory of /home/sbx_user1051/mosek was not found\n",
      "# Did not find mosek\n",
      "# Looking for mosek_cli\n",
      "#   Trying to run mskexpopt...\n",
      "#     Calling 'mskexpopt'\n",
      "##\n",
      "### CALL BEGINS\n",
      "/bin/sh: mskexpopt: command not found\n",
      "### CALL ENDS\n",
      "##\n",
      "# Did not find mosek_cli\n",
      "# Looking for cvxopt\n",
      "#   Trying to import cvxopt...\n",
      "# Found cvxopt in Python path\n",
      "...finished building gpkit.\n",
      "\n",
      "Found the following solvers: cvxopt\n",
      "#     Replacing directory env\n",
      "[ERROR] OSError: [Errno 30] Read-only file system: 'env'\r",
      "Traceback (most recent call last):\r",
      "  File \"/var/task/main.py\", line 46, in lambda_handler\r",
      "    return lambda_run(event, context)\r",
      "  File \"/var/task/main.py\", line 126, in lambda_run\r",
      "    result = my_exec(event[\"code\"], globalenv, globalenv)\r",
      "  File \"/var/task/main.py\", line 181, in my_exec\r",
      "    locals,\r",
      "  File \"<ast>\", line 5, in <module>\r",
      "  File \"/var/task/python_lambda_deps/gpkit/__init__.py\", line 7, in <module>\r",
      "    from .globals import settings, SignomialsEnabled, Vectorize, NamedVariables\r",
      "  File \"/var/task/python_lambda_deps/gpkit/globals.py\", line 57, in <module>\r",
      "    settings = load_settings()\r",
      "  File \"/var/task/python_lambda_deps/gpkit/globals.py\", line 32, in load_settings\r",
      "    build()\r",
      "  File \"/var/task/python_lambda_deps/gpkit/build.py\", line 322, in build\r",
      "    replacedir(envpath)\r",
      "  File \"/var/task/python_lambda_deps/gpkit/build.py\", line 40, in replacedir\r",
      "    os.makedirs(path)\r",
      "  File \"/var/lang/lib/python3.7/os.py\", line 221, in makedirs\r",
      "    mkdir(name, mode)\n"
     ]
    },
    {
     "data": {
      "text/plain": [
       "{'errorMessage': \"[Errno 30] Read-only file system: 'env'\",\n",
       " 'errorType': 'OSError',\n",
       " 'stackTrace': ['  File \"/var/task/main.py\", line 46, in lambda_handler\\n    return lambda_run(event, context)\\n',\n",
       "  '  File \"/var/task/main.py\", line 126, in lambda_run\\n    result = my_exec(event[\"code\"], globalenv, globalenv)\\n',\n",
       "  '  File \"/var/task/main.py\", line 181, in my_exec\\n    locals,\\n',\n",
       "  '  File \"<ast>\", line 5, in <module>\\n',\n",
       "  '  File \"/var/task/python_lambda_deps/gpkit/__init__.py\", line 7, in <module>\\n    from .globals import settings, SignomialsEnabled, Vectorize, NamedVariables\\n',\n",
       "  '  File \"/var/task/python_lambda_deps/gpkit/globals.py\", line 57, in <module>\\n    settings = load_settings()\\n',\n",
       "  '  File \"/var/task/python_lambda_deps/gpkit/globals.py\", line 32, in load_settings\\n    build()\\n',\n",
       "  '  File \"/var/task/python_lambda_deps/gpkit/build.py\", line 322, in build\\n    replacedir(envpath)\\n',\n",
       "  '  File \"/var/task/python_lambda_deps/gpkit/build.py\", line 40, in replacedir\\n    os.makedirs(path)\\n',\n",
       "  '  File \"/var/lang/lib/python3.7/os.py\", line 221, in makedirs\\n    mkdir(name, mode)\\n']}"
      ]
     },
     "execution_count": 2,
     "metadata": {},
     "output_type": "execute_result"
    }
   ],
   "source": [
    "%%eigensheep gpkit\n",
    "import os\n",
    "os.chdir(\"/tmp\")\n",
    "os.environ[\"GPKITBUILD\"] = \"/tmp/gpkitbuild\"\n",
    "\n",
    "from gpkit import Variable, VectorVariable, Model\n",
    "\n",
    "x = Variable(\"x\", \"m\")\n",
    "y = Variable(\"y\", \"m\")\n",
    "z = Variable(\"z\", \"m\")\n",
    "S = Variable(\"S\", 1.0, \"m^2\")\n",
    "c = (2*x*y + 2*x*z + 2*y*z <= S)\n",
    "\n",
    "\n",
    "objective = 1/(x*y*z)\n",
    "constraints = [2*x*y + 2*x*z + 2*y*z <= S,\n",
    "               x >= 2*y]\n",
    "m = Model(objective, constraints)\n",
    "\n",
    "\n",
    "sol = m.solve(verbosity=0)\n",
    "\n",
    "print(sol.table())"
   ]
  },
  {
   "cell_type": "code",
   "execution_count": null,
   "metadata": {},
   "outputs": [],
   "source": []
  }
 ],
 "metadata": {
  "kernelspec": {
   "display_name": "Python 3",
   "language": "python",
   "name": "python3"
  },
  "language_info": {
   "codemirror_mode": {
    "name": "ipython",
    "version": 3
   },
   "file_extension": ".py",
   "mimetype": "text/x-python",
   "name": "python",
   "nbconvert_exporter": "python",
   "pygments_lexer": "ipython3",
   "version": "3.7.3"
  }
 },
 "nbformat": 4,
 "nbformat_minor": 2
}
