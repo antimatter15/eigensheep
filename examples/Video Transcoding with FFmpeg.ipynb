{
 "cells": [
  {
   "cell_type": "code",
   "execution_count": 1,
   "metadata": {},
   "outputs": [
    {
     "data": {
      "text/html": [
       "\n",
       "<p>\n",
       "Prefix any cell with <code>%%eigensheep</code> to run it in AWS Lambda. <a target=\"_blank\" href='https://github.com/antimatter15/eigensheep'>Learn more...</a>\n",
       "</p>\n",
       "<br />\n",
       "<details>\n",
       "<summary>Example: Use `requests` package via Pip</summary>\n",
       "<pre style=\"padding-left: 20px\">%%eigensheep requests\n",
       "import requests\n",
       "requests.get(\"https://www.google.com\").text\n",
       "</pre>\n",
       "</details>\n",
       "\n",
       "<details>\n",
       "<summary>Example: Run cell 100x concurrently</summary>\n",
       "<pre style=\"padding-left: 20px\">%%eigensheep -n 100\n",
       "INDEX + 1 # returns [1, 2, 3, ..., 99, 100]\n",
       "</pre>\n",
       "</details>\n",
       "\n",
       "<details>\n",
       "<summary>Example: Mapping through an array</summary>\n",
       "<pre style=\"padding-left: 20px\">%%eigensheep --name do_stuff\n",
       "DATA + INDEX\n",
       "# In a different cell, call `eigensheep.map(\"do_stuff\", [1, 2, 3, 4])`\n",
       "</pre>\n",
       "<ul>\n",
       "<li><tt>INDEX</tt>: the index (starting at 0) of the lambda running your code. \n",
       "This means each lambda runnning in parallel gets a different INDEX variable, which is useful for doing different jobs on each one.\n",
       "Check out the examples for inspiration.</li>\n",
       "<li><tt>DATA</tt>: the data corresponding to a particular index.</li>\n",
       "</ul>\n",
       "</details>\n",
       "\n",
       "<details>\n",
       "<summary>Example: Natural Language Processing with `spacy` Lambda layer</summary>\n",
       "<pre style=\"padding-left: 20px\">%%eigensheep --layer arn:aws:lambda:us-east-1:113088814899:layer:Klayers-python37-spacy:1\n",
       "import spacy\n",
       "nlp = spacy.load('/opt/en_core_web_sm-2.1.0')\n",
       "data = nlp('I met a traveller from an antique land')\n",
       "\n",
       "for token in data:\n",
       "    print(token.text, token.pos_, token.dep_)\n",
       "</pre>\n",
       "</details>\n",
       "\n",
       "<details>\n",
       "<summary>Example: Save/Load data in Eigensheep S3 Bucket</summary>\n",
       "<div>\n",
       "These APIs are available from both the parent notebook and the Lambda environment. These methods are injected into the global scope. \n",
       "</div>\n",
       "<ul>\n",
       "<li><tt>SAVE(key, data)</tt>: saves <tt>data</tt> to a file named <tt>key</tt> in the Eigensheep S3 bucket.<br/></li>\n",
       "<li><tt>LOAD(key)</tt>: returns the contents of the file named <tt>key</tt> in the Eigensheep S3 bucket.<br/></li>\n",
       "</ul>\n",
       "</details>\n"
      ],
      "text/plain": [
       "<IPython.core.display.HTML object>"
      ]
     },
     "metadata": {},
     "output_type": "display_data"
    }
   ],
   "source": [
    "import eigensheep"
   ]
  },
  {
   "cell_type": "code",
   "execution_count": 2,
   "metadata": {},
   "outputs": [
    {
     "name": "stderr",
     "output_type": "stream",
     "text": [
      "Installing lambda layers (this will take a while)...\n",
      "Successfully deployed as 'python37-512M-60s-e68d3-clean'.\n"
     ]
    }
   ],
   "source": [
    "%%eigensheep --layer arn:aws:lambda:us-east-1:972882471061:layer:ffmpeg:1"
   ]
  },
  {
   "cell_type": "code",
   "execution_count": null,
   "metadata": {},
   "outputs": [],
   "source": []
  }
 ],
 "metadata": {
  "kernelspec": {
   "display_name": "Python 3",
   "language": "python",
   "name": "python3"
  },
  "language_info": {
   "codemirror_mode": {
    "name": "ipython",
    "version": 3
   },
   "file_extension": ".py",
   "mimetype": "text/x-python",
   "name": "python",
   "nbconvert_exporter": "python",
   "pygments_lexer": "ipython3",
   "version": "3.7.3"
  }
 },
 "nbformat": 4,
 "nbformat_minor": 2
}
